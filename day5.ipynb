{
  "nbformat": 4,
  "nbformat_minor": 0,
  "metadata": {
    "colab": {
      "name": "day5.ipynb",
      "provenance": [],
      "mount_file_id": "1_jkP8enAIEp7ofPJ4iexiIVJ4m4_1tLS",
      "authorship_tag": "ABX9TyOnSeakcbNMaAgGQQKyh81H",
      "include_colab_link": true
    },
    "kernelspec": {
      "name": "python3",
      "display_name": "Python 3"
    },
    "accelerator": "GPU"
  },
  "cells": [
    {
      "cell_type": "markdown",
      "metadata": {
        "id": "view-in-github",
        "colab_type": "text"
      },
      "source": [
        "<a href=\"https://colab.research.google.com/github/wideowsieci/dw_matrix_road_sign/blob/master/day5.ipynb\" target=\"_parent\"><img src=\"https://colab.research.google.com/assets/colab-badge.svg\" alt=\"Open In Colab\"/></a>"
      ]
    },
    {
      "cell_type": "code",
      "metadata": {
        "id": "VtJUz_bb0qoC",
        "colab_type": "code",
        "colab": {
          "base_uri": "https://localhost:8080/",
          "height": 170
        },
        "outputId": "32b571cf-92b7-4606-f71d-16c749422563"
      },
      "source": [
        "!pip install hyperopt"
      ],
      "execution_count": 1,
      "outputs": [
        {
          "output_type": "stream",
          "text": [
            "Requirement already satisfied: hyperopt in /usr/local/lib/python3.6/dist-packages (0.1.2)\n",
            "Requirement already satisfied: scipy in /usr/local/lib/python3.6/dist-packages (from hyperopt) (1.4.1)\n",
            "Requirement already satisfied: numpy in /usr/local/lib/python3.6/dist-packages (from hyperopt) (1.18.2)\n",
            "Requirement already satisfied: tqdm in /usr/local/lib/python3.6/dist-packages (from hyperopt) (4.38.0)\n",
            "Requirement already satisfied: six in /usr/local/lib/python3.6/dist-packages (from hyperopt) (1.12.0)\n",
            "Requirement already satisfied: networkx in /usr/local/lib/python3.6/dist-packages (from hyperopt) (2.4)\n",
            "Requirement already satisfied: pymongo in /usr/local/lib/python3.6/dist-packages (from hyperopt) (3.10.1)\n",
            "Requirement already satisfied: future in /usr/local/lib/python3.6/dist-packages (from hyperopt) (0.16.0)\n",
            "Requirement already satisfied: decorator>=4.3.0 in /usr/local/lib/python3.6/dist-packages (from networkx->hyperopt) (4.4.2)\n"
          ],
          "name": "stdout"
        }
      ]
    },
    {
      "cell_type": "code",
      "metadata": {
        "id": "jiWxNtx802sP",
        "colab_type": "code",
        "colab": {
          "base_uri": "https://localhost:8080/",
          "height": 51
        },
        "outputId": "07c2ccdd-8e45-47aa-d5f8-9df144009191"
      },
      "source": [
        "import pandas as pd\n",
        "import numpy as np\n",
        "\n",
        "import os\n",
        "import datetime\n",
        "\n",
        "import tensorflow as tf\n",
        "from tensorflow.keras.models import Sequential\n",
        "from tensorflow.keras.layers import Conv2D, MaxPool2D, Dense, Flatten, Dropout\n",
        "from tensorflow.keras.utils import to_categorical\n",
        "%load_ext tensorboard\n",
        "\n",
        "import matplotlib.pyplot as plt\n",
        "from skimage import color, exposure\n",
        "\n",
        "from sklearn.metrics import accuracy_score\n",
        "\n",
        "from hyperopt import hp, STATUS_OK, tpe, Trials, fmin"
      ],
      "execution_count": 12,
      "outputs": [
        {
          "output_type": "stream",
          "text": [
            "The tensorboard extension is already loaded. To reload it, use:\n",
            "  %reload_ext tensorboard\n"
          ],
          "name": "stdout"
        }
      ]
    },
    {
      "cell_type": "code",
      "metadata": {
        "id": "WyAaCWQj1GGX",
        "colab_type": "code",
        "colab": {
          "base_uri": "https://localhost:8080/",
          "height": 34
        },
        "outputId": "2768035c-085b-4e2d-af0f-8bc0396ef78b"
      },
      "source": [
        "cd '/content/drive/My Drive/Colab Notebooks/matrix/matrix_three/dw_matrix_road_sign'"
      ],
      "execution_count": 2,
      "outputs": [
        {
          "output_type": "stream",
          "text": [
            "/content/drive/My Drive/Colab Notebooks/matrix/matrix_three/dw_matrix_road_sign\n"
          ],
          "name": "stdout"
        }
      ]
    },
    {
      "cell_type": "code",
      "metadata": {
        "id": "osPQwc4N1Kh2",
        "colab_type": "code",
        "colab": {}
      },
      "source": [
        "train = pd.read_pickle('data/train.p')\n",
        "test = pd.read_pickle('data/test.p')\n",
        "\n",
        "X_train, y_train = train['features'], train['labels']\n",
        "X_test, y_test = test['features'], test['labels']"
      ],
      "execution_count": 0,
      "outputs": []
    },
    {
      "cell_type": "code",
      "metadata": {
        "id": "oRXy52fI1ZYQ",
        "colab_type": "code",
        "colab": {}
      },
      "source": [
        "if y_train.ndim == 1: y_train = to_categorical(y_train)\n",
        "if y_test.ndim == 1: y_test = to_categorical(y_test)"
      ],
      "execution_count": 0,
      "outputs": []
    },
    {
      "cell_type": "code",
      "metadata": {
        "id": "VTblImLs1b62",
        "colab_type": "code",
        "colab": {}
      },
      "source": [
        "input_shape = X_train.shape[1:]\n",
        "num_clases = y_train.shape[1]"
      ],
      "execution_count": 0,
      "outputs": []
    },
    {
      "cell_type": "code",
      "metadata": {
        "id": "ru2GtDjp1jtF",
        "colab_type": "code",
        "colab": {}
      },
      "source": [
        "def train_model(model, X_train, y_train, params_fit={}):\n",
        "    model.compile(loss='categorical_crossentropy', optimizer='Adam', metrics=['accuracy'])\n",
        "\n",
        "    logdir = os.path.join(\"logs\", datetime.datetime.now().strftime(\"%Y%m%d-%H%M%S\"))\n",
        "    tensorboard_callback = tf.keras.callbacks.TensorBoard(logdir, histogram_freq=1)\n",
        "\n",
        "    model.fit(\n",
        "        X_train,\n",
        "        y_train,\n",
        "        batch_size=params_fit.get('batch_size', 128),\n",
        "        epochs=params_fit.get('epochs', 5),\n",
        "        verbose=params_fit.get('verbose', 1),\n",
        "        validation_data=params_fit.get('validation_data', (X_train, y_train)),\n",
        "        callbacks= [tensorboard_callback]\n",
        "    )\n",
        "\n",
        "    return model\n",
        "\n",
        "def predict(model_trained, X_test, y_test, scoring=accuracy_score):\n",
        "\n",
        "    y_test_norm = np.argmax(y_test, axis=1)\n",
        "\n",
        "    y_pred_prob = model_trained.predict(X_test)\n",
        "    y_pred = np.argmax(y_pred_prob, axis=1)\n",
        "\n",
        "    return scoring(y_test_norm, y_pred)"
      ],
      "execution_count": 0,
      "outputs": []
    },
    {
      "cell_type": "code",
      "metadata": {
        "id": "ZDcaskv82GDI",
        "colab_type": "code",
        "colab": {}
      },
      "source": [
        "def get_cnn_v5(input_shape, num_clases):\n",
        "  return Sequential([\n",
        "  Conv2D(filters=32, kernel_size=(3, 3), activation='relu', input_shape=input_shape),  \n",
        "  Conv2D(filters=32, kernel_size=(3, 3), activation='relu', padding='same'),  \n",
        "  MaxPool2D(),\n",
        "  Dropout(0.3),\n",
        "  \n",
        "  Conv2D(filters=64, kernel_size=(3, 3), activation='relu', padding='same'),  \n",
        "  Conv2D(filters=64, kernel_size=(3, 3), activation='relu'),  \n",
        "  MaxPool2D(),\n",
        "  Dropout(0.3),\n",
        "\n",
        "  Conv2D(filters=64, kernel_size=(3, 3), activation='relu', padding='same'),  \n",
        "  Conv2D(filters=64, kernel_size=(3, 3), activation='relu'),  \n",
        "  MaxPool2D(),\n",
        "  Dropout(0.3),\n",
        "\n",
        "  Flatten(),\n",
        "\n",
        "  Dense(1024, activation='relu'),\n",
        "  Dropout(0.3),\n",
        "\n",
        "  Dense(1024, activation='relu'),\n",
        "  Dropout(0.3),\n",
        "\n",
        "  Dense(num_clases, activation='softmax'),\n",
        "\n",
        "])"
      ],
      "execution_count": 0,
      "outputs": []
    },
    {
      "cell_type": "code",
      "metadata": {
        "id": "uoSYauoH2G89",
        "colab_type": "code",
        "colab": {
          "base_uri": "https://localhost:8080/",
          "height": 204
        },
        "outputId": "12b9c6a9-980b-4f25-a420-5ceef6ccbbac"
      },
      "source": [
        "model = get_cnn_v5(input_shape, num_clases)\n",
        "model_trained = train_model(model, X_train, y_train)\n",
        "\n",
        "predict(model_trained, X_test, y_test)"
      ],
      "execution_count": 10,
      "outputs": [
        {
          "output_type": "stream",
          "text": [
            "Epoch 1/5\n",
            "272/272 [==============================] - 7s 24ms/step - loss: 2.8631 - accuracy: 0.2209 - val_loss: 1.2210 - val_accuracy: 0.6215\n",
            "Epoch 2/5\n",
            "272/272 [==============================] - 6s 23ms/step - loss: 1.0742 - accuracy: 0.6589 - val_loss: 0.3505 - val_accuracy: 0.8838\n",
            "Epoch 3/5\n",
            "272/272 [==============================] - 6s 22ms/step - loss: 0.5130 - accuracy: 0.8368 - val_loss: 0.1190 - val_accuracy: 0.9644\n",
            "Epoch 4/5\n",
            "272/272 [==============================] - 6s 23ms/step - loss: 0.3174 - accuracy: 0.9036 - val_loss: 0.0918 - val_accuracy: 0.9727\n",
            "Epoch 5/5\n",
            "272/272 [==============================] - 6s 22ms/step - loss: 0.2409 - accuracy: 0.9285 - val_loss: 0.0535 - val_accuracy: 0.9849\n"
          ],
          "name": "stdout"
        },
        {
          "output_type": "execute_result",
          "data": {
            "text/plain": [
              "0.9664399092970521"
            ]
          },
          "metadata": {
            "tags": []
          },
          "execution_count": 10
        }
      ]
    },
    {
      "cell_type": "code",
      "metadata": {
        "id": "0uKVjrs_6j-d",
        "colab_type": "code",
        "colab": {}
      },
      "source": [
        "def get_model(params):\n",
        "  return Sequential([\n",
        "  Conv2D(filters=32, kernel_size=(3, 3), activation='relu', input_shape=input_shape),  \n",
        "  Conv2D(filters=32, kernel_size=(3, 3), activation='relu', padding='same'),  \n",
        "  MaxPool2D(),\n",
        "  Dropout(params['dropout_cnn_block_one']),\n",
        "  \n",
        "  Conv2D(filters=64, kernel_size=(3, 3), activation='relu', padding='same'),  \n",
        "  Conv2D(filters=64, kernel_size=(3, 3), activation='relu'),  \n",
        "  MaxPool2D(),\n",
        "  Dropout(params['dropout_cnn_block_two']),\n",
        "\n",
        "  Conv2D(filters=128, kernel_size=(3, 3), activation='relu', padding='same'),  \n",
        "  Conv2D(filters=128, kernel_size=(3, 3), activation='relu'),  \n",
        "  MaxPool2D(),\n",
        "  Dropout(params['dropout_cnn_block_three']),\n",
        "\n",
        "  Flatten(),\n",
        "\n",
        "  Dense(1024, activation='relu'),\n",
        "  Dropout(params['dropout_dense_block_one']),\n",
        "\n",
        "  Dense(1024, activation='relu'),\n",
        "  Dropout(params['dropout_dense_block_two']),\n",
        "\n",
        "  Dense(num_clases, activation='softmax'),\n",
        "\n",
        "])"
      ],
      "execution_count": 0,
      "outputs": []
    },
    {
      "cell_type": "code",
      "metadata": {
        "id": "fdTYm4o_25J8",
        "colab_type": "code",
        "colab": {}
      },
      "source": [
        "def func_obj(params):\n",
        "  model = get_model(params)\n",
        "  model.compile(loss='categorical_crossentropy', optimizer='Adam', metrics=['accuracy'])\n",
        "\n",
        "  model.fit(\n",
        "        X_train,\n",
        "        y_train,\n",
        "        batch_size=int(params.get('batch_size', 128)),\n",
        "        epochs=5,\n",
        "        verbose=0,\n",
        "     )\n",
        "\n",
        "  score = model.evaluate(X_test, y_test, verbose=0)\n",
        "  accuracy = score[1]\n",
        "  print(params, 'accuracy={}'.format(accuracy))\n",
        "\n",
        "  return {'loss': -accuracy, 'status': STATUS_OK, 'model': model}\n",
        "\n",
        "             "
      ],
      "execution_count": 0,
      "outputs": []
    },
    {
      "cell_type": "code",
      "metadata": {
        "id": "q1WE7NRG5Dtj",
        "colab_type": "code",
        "colab": {
          "base_uri": "https://localhost:8080/",
          "height": 1000
        },
        "outputId": "e5b1297f-f512-4387-8277-ef4269dbe1e2"
      },
      "source": [
        "space = {\n",
        "    'batch_size': hp.quniform('batch_size', 100, 200, 10),\n",
        "    'dropout_cnn_block_one': hp.uniform('dropout_cnn_block_one', 0.3, 0.5),\n",
        "    'dropout_cnn_block_two': hp.uniform('dropout_cnn_block_two', 0.3, 0.5),\n",
        "    'dropout_cnn_block_three': hp.uniform('dropout_cnn_block_three', 0.3, 0.5),\n",
        "    'dropout_dense_block_one': hp.uniform('dropout_dense_block_one', 0.3, 0.7),\n",
        "    'dropout_dense_block_two': hp.uniform('dropout_dense_block_two', 0.3, 0.7),\n",
        "}\n",
        "\n",
        "best = fmin(\n",
        "    func_obj,\n",
        "    space,\n",
        "    tpe.suggest,\n",
        "    30,\n",
        "    Trials()\n",
        ")"
      ],
      "execution_count": 28,
      "outputs": [
        {
          "output_type": "stream",
          "text": [
            "{'batch_size': 190.0, 'dropout_cnn_block_one': 0.4004294229582801, 'dropout_cnn_block_three': 0.4365089723911838, 'dropout_cnn_block_two': 0.3043583321983475, 'dropout_dense_block_one': 0.5092283047254271, 'dropout_dense_block_two': 0.32248346990322674}\n",
            "accuracy=0.9603174328804016\n",
            "{'batch_size': 140.0, 'dropout_cnn_block_one': 0.37318504662913377, 'dropout_cnn_block_three': 0.4823372796516694, 'dropout_cnn_block_two': 0.3971714244298602, 'dropout_dense_block_one': 0.5301343400337378, 'dropout_dense_block_two': 0.605308885960028}\n",
            "accuracy=0.902721107006073\n",
            "{'batch_size': 190.0, 'dropout_cnn_block_one': 0.4202127319010638, 'dropout_cnn_block_three': 0.38141327436087535, 'dropout_cnn_block_two': 0.34961447970302684, 'dropout_dense_block_one': 0.600547537722658, 'dropout_dense_block_two': 0.5824890834784138}\n",
            "accuracy=0.8882086277008057\n",
            "{'batch_size': 140.0, 'dropout_cnn_block_one': 0.42895681832710686, 'dropout_cnn_block_three': 0.3992432803517023, 'dropout_cnn_block_two': 0.43808179692719323, 'dropout_dense_block_one': 0.47274461080291796, 'dropout_dense_block_two': 0.36360512311219323}\n",
            "accuracy=0.9346938729286194\n",
            "{'batch_size': 140.0, 'dropout_cnn_block_one': 0.35071437163175945, 'dropout_cnn_block_three': 0.4734955724185059, 'dropout_cnn_block_two': 0.39804281165668703, 'dropout_dense_block_one': 0.6543371074860779, 'dropout_dense_block_two': 0.6415430303599867}\n",
            "accuracy=0.8641723394393921\n",
            "{'batch_size': 190.0, 'dropout_cnn_block_one': 0.43017265296685947, 'dropout_cnn_block_three': 0.4675726523303419, 'dropout_cnn_block_two': 0.41029924583332084, 'dropout_dense_block_one': 0.41961786981657617, 'dropout_dense_block_two': 0.683955215846703}\n",
            "accuracy=0.9111111164093018\n",
            "{'batch_size': 150.0, 'dropout_cnn_block_one': 0.47323458495548854, 'dropout_cnn_block_three': 0.4799464553977253, 'dropout_cnn_block_two': 0.45764436446712553, 'dropout_dense_block_one': 0.5639514899812965, 'dropout_dense_block_two': 0.557984577138628}\n",
            "accuracy=0.8204081654548645\n",
            "{'batch_size': 120.0, 'dropout_cnn_block_one': 0.4374176995107504, 'dropout_cnn_block_three': 0.38132659573226124, 'dropout_cnn_block_two': 0.3051308053016955, 'dropout_dense_block_one': 0.5031949229301459, 'dropout_dense_block_two': 0.539034353952837}\n",
            "accuracy=0.9283446669578552\n",
            "{'batch_size': 130.0, 'dropout_cnn_block_one': 0.3064334345350214, 'dropout_cnn_block_three': 0.45070041976209707, 'dropout_cnn_block_two': 0.3699478810976698, 'dropout_dense_block_one': 0.6915251698326229, 'dropout_dense_block_two': 0.35516245947597197}\n",
            "accuracy=0.9414966106414795\n",
            "{'batch_size': 120.0, 'dropout_cnn_block_one': 0.3803153903089898, 'dropout_cnn_block_three': 0.38856201745659996, 'dropout_cnn_block_two': 0.3256386005920759, 'dropout_dense_block_one': 0.3452744182133559, 'dropout_dense_block_two': 0.6045619925077449}\n",
            "accuracy=0.9190475940704346\n",
            "{'batch_size': 170.0, 'dropout_cnn_block_one': 0.4138211771241741, 'dropout_cnn_block_three': 0.325950455352707, 'dropout_cnn_block_two': 0.31580610983562524, 'dropout_dense_block_one': 0.6665088188812709, 'dropout_dense_block_two': 0.49445847498543244}\n",
            "accuracy=0.8773242831230164\n",
            "{'batch_size': 150.0, 'dropout_cnn_block_one': 0.34835909905421836, 'dropout_cnn_block_three': 0.3210879687565337, 'dropout_cnn_block_two': 0.3207558681341727, 'dropout_dense_block_one': 0.6008496874565424, 'dropout_dense_block_two': 0.4131763236067616}\n",
            "accuracy=0.9462584853172302\n",
            "{'batch_size': 140.0, 'dropout_cnn_block_one': 0.40574418516532956, 'dropout_cnn_block_three': 0.40969630582316763, 'dropout_cnn_block_two': 0.44694024860154774, 'dropout_dense_block_one': 0.3373889275205196, 'dropout_dense_block_two': 0.48668720881969585}\n",
            "accuracy=0.9204081892967224\n",
            "{'batch_size': 180.0, 'dropout_cnn_block_one': 0.46388584052174386, 'dropout_cnn_block_three': 0.32228677582371296, 'dropout_cnn_block_two': 0.4299801561224156, 'dropout_dense_block_one': 0.5889375153889311, 'dropout_dense_block_two': 0.6014095248669008}\n",
            "accuracy=0.8963719010353088\n",
            "{'batch_size': 120.0, 'dropout_cnn_block_one': 0.4556238998635442, 'dropout_cnn_block_three': 0.31504305883878964, 'dropout_cnn_block_two': 0.30939047916728935, 'dropout_dense_block_one': 0.33050516606938357, 'dropout_dense_block_two': 0.6415437096766339}\n",
            "accuracy=0.9340136051177979\n",
            "{'batch_size': 170.0, 'dropout_cnn_block_one': 0.44380227612597767, 'dropout_cnn_block_three': 0.3290048422546065, 'dropout_cnn_block_two': 0.3463738015018351, 'dropout_dense_block_one': 0.6164528734110435, 'dropout_dense_block_two': 0.3646237550926322}\n",
            "accuracy=0.9063491821289062\n",
            "{'batch_size': 170.0, 'dropout_cnn_block_one': 0.3806569353930224, 'dropout_cnn_block_three': 0.33175924191401557, 'dropout_cnn_block_two': 0.4663109505702262, 'dropout_dense_block_one': 0.5781922626937659, 'dropout_dense_block_two': 0.5908284893080715}\n",
            "accuracy=0.924263060092926\n",
            "{'batch_size': 120.0, 'dropout_cnn_block_one': 0.3482414792777818, 'dropout_cnn_block_three': 0.4814107385763635, 'dropout_cnn_block_two': 0.31798794344917347, 'dropout_dense_block_one': 0.5588536215033171, 'dropout_dense_block_two': 0.6065125286779777}\n",
            "accuracy=0.9303854703903198\n",
            "{'batch_size': 200.0, 'dropout_cnn_block_one': 0.3787701724637398, 'dropout_cnn_block_three': 0.49900648716402324, 'dropout_cnn_block_two': 0.37177480843500377, 'dropout_dense_block_one': 0.5527598543295114, 'dropout_dense_block_two': 0.6386304436402199}\n",
            "accuracy=0.8299319744110107\n",
            "{'batch_size': 190.0, 'dropout_cnn_block_one': 0.4933517259288246, 'dropout_cnn_block_three': 0.4545107706942793, 'dropout_cnn_block_two': 0.3940575562496987, 'dropout_dense_block_one': 0.3722292241728469, 'dropout_dense_block_two': 0.4378700061161322}\n",
            "accuracy=0.9213151931762695\n",
            "{'batch_size': 160.0, 'dropout_cnn_block_one': 0.30684243892403024, 'dropout_cnn_block_three': 0.423936484926608, 'dropout_cnn_block_two': 0.34406212079859183, 'dropout_dense_block_one': 0.4424807375779182, 'dropout_dense_block_two': 0.3007457029061005}\n",
            "accuracy=0.9712018370628357\n",
            "{'batch_size': 100.0, 'dropout_cnn_block_one': 0.30089998448876076, 'dropout_cnn_block_three': 0.4202311943799239, 'dropout_cnn_block_two': 0.3458528280077802, 'dropout_dense_block_one': 0.43818635917798376, 'dropout_dense_block_two': 0.31417809570037464}\n",
            "accuracy=0.9453514814376831\n",
            "{'batch_size': 160.0, 'dropout_cnn_block_one': 0.32299805560776984, 'dropout_cnn_block_three': 0.4340854260628068, 'dropout_cnn_block_two': 0.3746657903583703, 'dropout_dense_block_one': 0.40045818555674484, 'dropout_dense_block_two': 0.3007465633779818}\n",
            "accuracy=0.9603174328804016\n",
            "{'batch_size': 200.0, 'dropout_cnn_block_one': 0.3274307227560365, 'dropout_cnn_block_three': 0.34857096037571467, 'dropout_cnn_block_two': 0.48879664842747317, 'dropout_dense_block_one': 0.4672339906298315, 'dropout_dense_block_two': 0.330275344667433}\n",
            "accuracy=0.9594104290008545\n",
            "{'batch_size': 160.0, 'dropout_cnn_block_one': 0.40145671727788934, 'dropout_cnn_block_three': 0.4319078220455033, 'dropout_cnn_block_two': 0.33513872836340525, 'dropout_dense_block_one': 0.5090534946122682, 'dropout_dense_block_two': 0.4091231428292791}\n",
            "accuracy=0.9505668878555298\n",
            "{'batch_size': 180.0, 'dropout_cnn_block_one': 0.36263846286805157, 'dropout_cnn_block_three': 0.44308700610919705, 'dropout_cnn_block_two': 0.3010324292369546, 'dropout_dense_block_one': 0.4656805307816177, 'dropout_dense_block_two': 0.4620454238700217}\n",
            "accuracy=0.9596371650695801\n",
            "{'batch_size': 100.0, 'dropout_cnn_block_one': 0.39000085527026446, 'dropout_cnn_block_three': 0.3606313720051693, 'dropout_cnn_block_two': 0.335362090451496, 'dropout_dense_block_one': 0.38401069674500504, 'dropout_dense_block_two': 0.39940731491918346}\n",
            "accuracy=0.9591836929321289\n",
            "{'batch_size': 160.0, 'dropout_cnn_block_one': 0.3215029088685075, 'dropout_cnn_block_three': 0.41455243795269425, 'dropout_cnn_block_two': 0.3578655246080376, 'dropout_dense_block_one': 0.4225167184166446, 'dropout_dense_block_two': 0.34328834729056434}\n",
            "accuracy=0.9678004384040833\n",
            "{'batch_size': 160.0, 'dropout_cnn_block_one': 0.32281102210209817, 'dropout_cnn_block_three': 0.41951242227973917, 'dropout_cnn_block_two': 0.35869967806598047, 'dropout_dense_block_one': 0.438579723051156, 'dropout_dense_block_two': 0.33994810712463114}\n",
            "accuracy=0.963718831539154\n",
            "{'batch_size': 180.0, 'dropout_cnn_block_one': 0.31058896437665523, 'dropout_cnn_block_three': 0.3998544907716588, 'dropout_cnn_block_two': 0.4146720254180181, 'dropout_dense_block_one': 0.36258998699232337, 'dropout_dense_block_two': 0.39061199228784144}\n",
            "accuracy=0.9657596349716187\n",
            "100%|██████████| 30/30 [10:23<00:00, 20.78s/it, best loss: -0.9712018370628357]\n"
          ],
          "name": "stdout"
        }
      ]
    },
    {
      "cell_type": "code",
      "metadata": {
        "id": "_-u4YULc9SmS",
        "colab_type": "code",
        "colab": {}
      },
      "source": [
        ""
      ],
      "execution_count": 0,
      "outputs": []
    }
  ]
}